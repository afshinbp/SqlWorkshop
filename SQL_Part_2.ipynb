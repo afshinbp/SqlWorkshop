{
 "cells": [
  {
   "cell_type": "markdown",
   "metadata": {},
   "source": [
    "**Afshin Bayatpour, Email: afshin.bayatpour@gmail.com**"
   ]
  },
  {
   "cell_type": "code",
   "execution_count": 1,
   "metadata": {
    "id": "4IlKHslRqiYR"
   },
   "outputs": [],
   "source": [
    "import numpy as np\n",
    "import pandas as pd\n",
    "import sqlite3 as sql\n",
    "import matplotlib.pyplot as plt\n",
    "conn = sql.connect('example.db')"
   ]
  },
  {
   "cell_type": "markdown",
   "metadata": {
    "id": "kGSAoPtBr9bB"
   },
   "source": [
    "#Joins\n",
    "\n",
    "Create two tables named Address and Number as:\n",
    "\n",
    "\n",
    "```\n",
    "+----+-------+--------------+\n",
    "| Id | Name  | Location     | \n",
    "+----+-------+--------------+\n",
    "| 1  | Joe   | 1370 Way St. |\n",
    "| 2  | Henry | 34 Apple Dr. |\n",
    "| 3  | Sam   | 60 Moon Rd.  |\n",
    "| 4  | Max   | 95 Main St.  |\n",
    "+----+-------+--------------+\n",
    "```\n",
    "\n",
    "\n",
    "\n",
    "```\n",
    "+----+-------+--------------+\n",
    "| Id | Name  | Phone Number | \n",
    "+----+-------+--------------+\n",
    "| 1  | Joe   | 1234567890   |\n",
    "| 5  | Candy | 1230987654   |\n",
    "| 7  | Bob   | 1235476980   |\n",
    "| 4  | Max   | 1239078564   |\n",
    "+----+-------+--------------+\n",
    "```\n",
    "\n",
    "Use the appropriate Join to Get an output as:\n",
    "\n",
    "\n",
    "\n",
    "```\n",
    "+----+-------+--------------+--------------+\n",
    "| Id | Name  | Location     | Number       |\n",
    "+----+-------+--------------+--------------+\n",
    "| 1  | Joe   | 1370 Way St. | 1234567890   |\n",
    "| 4  | Max   | 95 Main St.  | 1239078564   |\n",
    "+----+-------+--------------+--------------+\n",
    "```\n",
    "\n",
    "\n"
   ]
  },
  {
   "cell_type": "code",
   "execution_count": 2,
   "metadata": {
    "id": "YIMs60-IuuPK"
   },
   "outputs": [
    {
     "name": "stderr",
     "output_type": "stream",
     "text": [
      "C:\\Users\\AfshIn\\anaconda3\\lib\\site-packages\\pandas\\core\\generic.py:2653: UserWarning: The spaces in these column names will not be changed. In pandas versions < 0.14, spaces were converted to underscores.\n",
      "  sql.to_sql(\n"
     ]
    }
   ],
   "source": [
    "address = pd.DataFrame(([[1, 'Joe', \"1370 Way St.\"], [2, 'Henry', \"34 Apple Dr.\"], [3, 'Sam', \"60 Moon Rd.\"], [4,'Max',\"95 Main St.\"]]),\n",
    "                   columns=['Id', 'Name', 'Location'])\n",
    "address.to_sql('address', con=conn, if_exists='replace')\n",
    "number = pd.DataFrame(([[1, 'Joe', 1234567890], [5, 'Candy', 1230987654 ], [7, 'Bob', 1235476980], [4,'Max', 1239078564]]),\n",
    "                   columns=['Id', 'Name', 'Phone Number'])\n",
    "number.to_sql('number', con=conn, if_exists='replace')"
   ]
  },
  {
   "cell_type": "code",
   "execution_count": 3,
   "metadata": {},
   "outputs": [
    {
     "data": {
      "text/html": [
       "<div>\n",
       "<style scoped>\n",
       "    .dataframe tbody tr th:only-of-type {\n",
       "        vertical-align: middle;\n",
       "    }\n",
       "\n",
       "    .dataframe tbody tr th {\n",
       "        vertical-align: top;\n",
       "    }\n",
       "\n",
       "    .dataframe thead th {\n",
       "        text-align: right;\n",
       "    }\n",
       "</style>\n",
       "<table border=\"1\" class=\"dataframe\">\n",
       "  <thead>\n",
       "    <tr style=\"text-align: right;\">\n",
       "      <th></th>\n",
       "      <th>Id</th>\n",
       "      <th>Name</th>\n",
       "      <th>Location</th>\n",
       "      <th>Number</th>\n",
       "    </tr>\n",
       "  </thead>\n",
       "  <tbody>\n",
       "    <tr>\n",
       "      <th>0</th>\n",
       "      <td>1</td>\n",
       "      <td>Joe</td>\n",
       "      <td>1370 Way St.</td>\n",
       "      <td>1.234568e+09</td>\n",
       "    </tr>\n",
       "    <tr>\n",
       "      <th>3</th>\n",
       "      <td>4</td>\n",
       "      <td>Max</td>\n",
       "      <td>95 Main St.</td>\n",
       "      <td>1.239079e+09</td>\n",
       "    </tr>\n",
       "  </tbody>\n",
       "</table>\n",
       "</div>"
      ],
      "text/plain": [
       "   Id Name      Location        Number\n",
       "0   1  Joe  1370 Way St.  1.234568e+09\n",
       "3   4  Max   95 Main St.  1.239079e+09"
      ]
     },
     "execution_count": 3,
     "metadata": {},
     "output_type": "execute_result"
    }
   ],
   "source": [
    "pd.read_sql(\"SELECT a.Id, a.Name, a.Location, cast(b.`Phone Number` as real) as Number\\\n",
    "            FROM address as a\\\n",
    "            LEFT JOIN number as b\\\n",
    "            on a.ID = b.ID\", con = conn).dropna()"
   ]
  },
  {
   "cell_type": "markdown",
   "metadata": {
    "id": "_u1IVpZkwvgc"
   },
   "source": [
    "#Technical Questions\n",
    "\n",
    "**NOTE** You are going to have to create the initial table or Schema first for the following questions.\n",
    "\n",
    "##Rising Temperature\n",
    "\n",
    "\n",
    "\n",
    "Write an SQL query to find all dates' id with higher temperature compared to its previous dates (yesterday).\n",
    "\n",
    "Return the result table in any order.\n",
    "\n",
    "The query result format is in the following example:\n",
    "\n",
    "\n",
    "\n",
    "```\n",
    "Weather\n",
    "+----+------------+-------------+\n",
    "| id | recordDate | Temperature |\n",
    "+----+------------+-------------+\n",
    "| 1  | 2015-01-01 | 10          |\n",
    "| 2  | 2015-01-02 | 25          |\n",
    "| 3  | 2015-01-03 | 20          |\n",
    "| 4  | 2015-01-04 | 30          |\n",
    "+----+------------+-------------+\n",
    "\n",
    "Result table:\n",
    "+----+\n",
    "| id |\n",
    "+----+\n",
    "| 2  |\n",
    "| 4  |\n",
    "+----+\n",
    "In 2015-01-02, temperature was higher than the previous day (10 -> 25).\n",
    "In 2015-01-04, temperature was higher than the previous day (20 -> 30).\n",
    "```\n",
    "\n"
   ]
  },
  {
   "cell_type": "code",
   "execution_count": 4,
   "metadata": {
    "id": "-_f_d4Xiz6jq"
   },
   "outputs": [
    {
     "data": {
      "text/html": [
       "<div>\n",
       "<style scoped>\n",
       "    .dataframe tbody tr th:only-of-type {\n",
       "        vertical-align: middle;\n",
       "    }\n",
       "\n",
       "    .dataframe tbody tr th {\n",
       "        vertical-align: top;\n",
       "    }\n",
       "\n",
       "    .dataframe thead th {\n",
       "        text-align: right;\n",
       "    }\n",
       "</style>\n",
       "<table border=\"1\" class=\"dataframe\">\n",
       "  <thead>\n",
       "    <tr style=\"text-align: right;\">\n",
       "      <th></th>\n",
       "      <th>id</th>\n",
       "      <th>recordDate</th>\n",
       "      <th>Temperature</th>\n",
       "    </tr>\n",
       "  </thead>\n",
       "  <tbody>\n",
       "    <tr>\n",
       "      <th>0</th>\n",
       "      <td>1</td>\n",
       "      <td>2015-01-01</td>\n",
       "      <td>10</td>\n",
       "    </tr>\n",
       "    <tr>\n",
       "      <th>1</th>\n",
       "      <td>2</td>\n",
       "      <td>2015-01-02</td>\n",
       "      <td>25</td>\n",
       "    </tr>\n",
       "    <tr>\n",
       "      <th>2</th>\n",
       "      <td>3</td>\n",
       "      <td>2015-01-03</td>\n",
       "      <td>20</td>\n",
       "    </tr>\n",
       "    <tr>\n",
       "      <th>3</th>\n",
       "      <td>4</td>\n",
       "      <td>2015-01-04</td>\n",
       "      <td>30</td>\n",
       "    </tr>\n",
       "  </tbody>\n",
       "</table>\n",
       "</div>"
      ],
      "text/plain": [
       "   id   recordDate  Temperature\n",
       "0   1   2015-01-01           10\n",
       "1   2   2015-01-02           25\n",
       "2   3   2015-01-03           20\n",
       "3   4  2015-01-04            30"
      ]
     },
     "execution_count": 4,
     "metadata": {},
     "output_type": "execute_result"
    }
   ],
   "source": [
    "Weather = pd.DataFrame(([[1, '2015-01-01', 10], [2, '2015-01-02', 25], [3, '2015-01-03', 20], [4,'2015-01-04 ',30]]),\n",
    "                   columns=['id', 'recordDate', 'Temperature'])\n",
    "Weather.to_sql('Weather', con=conn, if_exists='replace')\n",
    "Weather"
   ]
  },
  {
   "cell_type": "code",
   "execution_count": 5,
   "metadata": {},
   "outputs": [
    {
     "data": {
      "text/html": [
       "<div>\n",
       "<style scoped>\n",
       "    .dataframe tbody tr th:only-of-type {\n",
       "        vertical-align: middle;\n",
       "    }\n",
       "\n",
       "    .dataframe tbody tr th {\n",
       "        vertical-align: top;\n",
       "    }\n",
       "\n",
       "    .dataframe thead th {\n",
       "        text-align: right;\n",
       "    }\n",
       "</style>\n",
       "<table border=\"1\" class=\"dataframe\">\n",
       "  <thead>\n",
       "    <tr style=\"text-align: right;\">\n",
       "      <th></th>\n",
       "      <th>id</th>\n",
       "    </tr>\n",
       "  </thead>\n",
       "  <tbody>\n",
       "    <tr>\n",
       "      <th>0</th>\n",
       "      <td>2</td>\n",
       "    </tr>\n",
       "    <tr>\n",
       "      <th>1</th>\n",
       "      <td>4</td>\n",
       "    </tr>\n",
       "  </tbody>\n",
       "</table>\n",
       "</div>"
      ],
      "text/plain": [
       "   id\n",
       "0   2\n",
       "1   4"
      ]
     },
     "execution_count": 5,
     "metadata": {},
     "output_type": "execute_result"
    }
   ],
   "source": [
    "pd.read_sql(\"SELECT a.id\\\n",
    "            FROM Weather as a\\\n",
    "            join Weather as b\\\n",
    "            WHERE (a.id = b.id + 1) and (a.Temperature > b.Temperature)\", con = conn)"
   ]
  },
  {
   "cell_type": "markdown",
   "metadata": {
    "id": "34aUDL9-z7MS"
   },
   "source": [
    "##Second Highest Salary\n",
    "\n",
    "Write a SQL query to get the second highest salary from the Employee table.\n",
    "\n",
    "\n",
    "```\n",
    "+----+--------+\n",
    "| Id | Salary |\n",
    "+----+--------+\n",
    "| 1  | 100    |\n",
    "| 2  | 200    |\n",
    "| 3  | 300    |\n",
    "+----+--------+\n",
    "```\n",
    "For example, given the above Employee table, the query should return 200 as the second highest salary. If there is no second highest salary, then the query should return null.\n",
    "\n",
    "\n",
    "```\n",
    "+---------------------+\n",
    "| SecondHighestSalary |\n",
    "+---------------------+\n",
    "| 200                 |\n",
    "+---------------------+\n",
    "```\n",
    "\n",
    "\n"
   ]
  },
  {
   "cell_type": "code",
   "execution_count": 6,
   "metadata": {},
   "outputs": [
    {
     "data": {
      "text/html": [
       "<div>\n",
       "<style scoped>\n",
       "    .dataframe tbody tr th:only-of-type {\n",
       "        vertical-align: middle;\n",
       "    }\n",
       "\n",
       "    .dataframe tbody tr th {\n",
       "        vertical-align: top;\n",
       "    }\n",
       "\n",
       "    .dataframe thead th {\n",
       "        text-align: right;\n",
       "    }\n",
       "</style>\n",
       "<table border=\"1\" class=\"dataframe\">\n",
       "  <thead>\n",
       "    <tr style=\"text-align: right;\">\n",
       "      <th></th>\n",
       "      <th>Id</th>\n",
       "      <th>Salary</th>\n",
       "    </tr>\n",
       "  </thead>\n",
       "  <tbody>\n",
       "    <tr>\n",
       "      <th>0</th>\n",
       "      <td>1</td>\n",
       "      <td>100</td>\n",
       "    </tr>\n",
       "    <tr>\n",
       "      <th>1</th>\n",
       "      <td>2</td>\n",
       "      <td>200</td>\n",
       "    </tr>\n",
       "    <tr>\n",
       "      <th>2</th>\n",
       "      <td>3</td>\n",
       "      <td>300</td>\n",
       "    </tr>\n",
       "  </tbody>\n",
       "</table>\n",
       "</div>"
      ],
      "text/plain": [
       "   Id  Salary\n",
       "0   1     100\n",
       "1   2     200\n",
       "2   3     300"
      ]
     },
     "execution_count": 6,
     "metadata": {},
     "output_type": "execute_result"
    }
   ],
   "source": [
    "employee = pd.DataFrame(([[1, 100], [2, 200], [3, 300]]),\n",
    "                   columns=['Id', 'Salary'])\n",
    "employee.to_sql('employee', con=conn, if_exists='replace')\n",
    "employee"
   ]
  },
  {
   "cell_type": "code",
   "execution_count": 7,
   "metadata": {
    "id": "dUzFjpJF0YRy",
    "scrolled": false
   },
   "outputs": [
    {
     "data": {
      "text/html": [
       "<div>\n",
       "<style scoped>\n",
       "    .dataframe tbody tr th:only-of-type {\n",
       "        vertical-align: middle;\n",
       "    }\n",
       "\n",
       "    .dataframe tbody tr th {\n",
       "        vertical-align: top;\n",
       "    }\n",
       "\n",
       "    .dataframe thead th {\n",
       "        text-align: right;\n",
       "    }\n",
       "</style>\n",
       "<table border=\"1\" class=\"dataframe\">\n",
       "  <thead>\n",
       "    <tr style=\"text-align: right;\">\n",
       "      <th></th>\n",
       "      <th>SecondHighestSalary</th>\n",
       "    </tr>\n",
       "  </thead>\n",
       "  <tbody>\n",
       "    <tr>\n",
       "      <th>0</th>\n",
       "      <td>200</td>\n",
       "    </tr>\n",
       "  </tbody>\n",
       "</table>\n",
       "</div>"
      ],
      "text/plain": [
       "   SecondHighestSalary\n",
       "0                  200"
      ]
     },
     "execution_count": 7,
     "metadata": {},
     "output_type": "execute_result"
    }
   ],
   "source": [
    "pd.read_sql(\"SELECT Salary as SecondHighestSalary From (SELECT ROW_NUMBER () OVER (ORDER BY Salary) AS RowNum, Salary FROM employee) \\\n",
    "            WHERE RowNum =2\" ,con = conn)\n",
    "            "
   ]
  },
  {
   "cell_type": "code",
   "execution_count": null,
   "metadata": {},
   "outputs": [],
   "source": []
  }
 ],
 "metadata": {
  "colab": {
   "authorship_tag": "ABX9TyOHooD93kfoCghviiRHX0FD",
   "collapsed_sections": [
    "Ox69IMbBqrAc"
   ],
   "name": "Workshop_SQL_Part_3.ipynb",
   "provenance": [
    {
     "file_id": "1jl3AhWkjsD0uOCD5w12LfelikBHfe0bS",
     "timestamp": 1613734010591
    },
    {
     "file_id": "1xFQ-yd0EaE2-5PIZ80ba1Qx5103nRVEu",
     "timestamp": 1613731892623
    },
    {
     "file_id": "1TpBDqh16DbP6HWmmI9wVb9nuo6cW1UOH",
     "timestamp": 1613645726576
    },
    {
     "file_id": "1aGpj8iLXGidkYKwe9xEcth-et3JzVmho",
     "timestamp": 1613643574182
    },
    {
     "file_id": "12JxosJOf4_fc3qPazDdBlYdKYIdJ2gzi",
     "timestamp": 1613395378740
    }
   ]
  },
  "kernelspec": {
   "display_name": "Python 3",
   "language": "python",
   "name": "python3"
  },
  "language_info": {
   "codemirror_mode": {
    "name": "ipython",
    "version": 3
   },
   "file_extension": ".py",
   "mimetype": "text/x-python",
   "name": "python",
   "nbconvert_exporter": "python",
   "pygments_lexer": "ipython3",
   "version": "3.8.3"
  }
 },
 "nbformat": 4,
 "nbformat_minor": 1
}
